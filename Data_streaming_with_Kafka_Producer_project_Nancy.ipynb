{
  "cells": [
    {
      "cell_type": "code",
      "execution_count": 1,
      "metadata": {
        "colab": {
          "base_uri": "https://localhost:8080/"
        },
        "id": "lFcQLk7W7x-w",
        "outputId": "1f2a27b8-fe5b-4548-a242-dd63ce84fac7"
      },
      "outputs": [
        {
          "output_type": "stream",
          "name": "stdout",
          "text": [
            "Looking in indexes: https://pypi.org/simple, https://us-python.pkg.dev/colab-wheels/public/simple/\n",
            "Collecting confluent-kafka\n",
            "  Downloading confluent_kafka-2.1.1-cp310-cp310-manylinux_2_17_x86_64.manylinux2014_x86_64.whl (3.9 MB)\n",
            "\u001b[2K     \u001b[90m━━━━━━━━━━━━━━━━━━━━━━━━━━━━━━━━━━━━━━━━\u001b[0m \u001b[32m3.9/3.9 MB\u001b[0m \u001b[31m65.7 MB/s\u001b[0m eta \u001b[36m0:00:00\u001b[0m\n",
            "\u001b[?25hInstalling collected packages: confluent-kafka\n",
            "Successfully installed confluent-kafka-2.1.1\n"
          ]
        }
      ],
      "source": [
        "!pip install confluent-kafka"
      ]
    },
    {
      "cell_type": "code",
      "execution_count": 3,
      "metadata": {
        "colab": {
          "base_uri": "https://localhost:8080/"
        },
        "id": "cjIfbDZ_8KPm",
        "outputId": "677863db-f92b-4aa7-9d6d-b073c8a6b05a"
      },
      "outputs": [
        {
          "output_type": "execute_result",
          "data": {
            "text/plain": [
              "0"
            ]
          },
          "metadata": {},
          "execution_count": 3
        }
      ],
      "source": [
        "from confluent_kafka import Producer\n",
        "import json\n",
        "#Kafka Producer \n",
        "\n",
        "conf = {\n",
        "    'bootstrap.servers': 'pkc-6ojv2.us-west4.gcp.confluent.cloud:9092',\n",
        "    'security.protocol': 'SASL_SSL',\n",
        "    'sasl.mechanism': 'PLAIN',\n",
        "    'sasl.username': 'NV4PDLB3F6DUEKBR',\n",
        "    'sasl.password': '8toQ5+DrpuiHS3UiPHT37Jb3h3/gzCPAsCCDQPs3ihHhJmoNfjQzvzZTUbDqvGMi',\n",
        "    'group.id': 'telecoms_mobile_money'\n",
        "}\n",
        "\n",
        "producer = Producer(conf)\n",
        "\n",
        "topic = 'topic_0'\n",
        "\n",
        "data = {\n",
        "    \"transaction_id\": \"12345\",\n",
        "    \"sender_phone_number\": \"256777123456\",\n",
        "    \"receiver_phone_number\": \"256772987654\",\n",
        "    \"transaction_amount\": 100000,\n",
        "    \"transaction_time\": \"2023-04-19 12:00:00\"\n",
        "}\n",
        "\n",
        "producer.produce(topic, value=json.dumps(data).encode('utf-8'))\n",
        "\n",
        "producer.flush()"
      ]
    }
  ],
  "metadata": {
    "colab": {
      "provenance": []
    },
    "kernelspec": {
      "display_name": "Python 3",
      "name": "python3"
    },
    "language_info": {
      "name": "python"
    }
  },
  "nbformat": 4,
  "nbformat_minor": 0
}