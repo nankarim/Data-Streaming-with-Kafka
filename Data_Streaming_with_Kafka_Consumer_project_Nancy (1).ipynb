{
  "nbformat": 4,
  "nbformat_minor": 0,
  "metadata": {
    "colab": {
      "provenance": []
    },
    "kernelspec": {
      "name": "python3",
      "display_name": "Python 3"
    },
    "language_info": {
      "name": "python"
    }
  },
  "cells": [
    {
      "cell_type": "code",
      "execution_count": 6,
      "metadata": {
        "id": "kCQ-YRDxzFlX",
        "colab": {
          "base_uri": "https://localhost:8080/"
        },
        "outputId": "8f5cc29a-96b5-4f46-a94b-0bb814a11027"
      },
      "outputs": [
        {
          "output_type": "stream",
          "name": "stdout",
          "text": [
            "Looking in indexes: https://pypi.org/simple, https://us-python.pkg.dev/colab-wheels/public/simple/\n",
            "Requirement already satisfied: confluent-kafka in /usr/local/lib/python3.10/dist-packages (2.1.1)\n"
          ]
        }
      ],
      "source": [
        "!pip install confluent-kafka"
      ]
    },
    {
      "cell_type": "code",
      "source": [
        "from confluent_kafka import Consumer, KafkaException\n",
        "import json\n",
        "#Kafka consumer\n",
        "conf = {\n",
        "    'bootstrap.servers': 'pkc-6ojv2.us-west4.gcp.confluent.cloud:9092',\n",
        "    'security.protocol': 'SASL_SSL',\n",
        "    'sasl.mechanism': 'PLAIN',\n",
        "    'sasl.username': 'ENW4A2LTXYQY6CCK',\n",
        "    'sasl.password': 'dkTmUyx4D9ei4BDHQvN0jxVk1oRqNASFjRLwZa9mkADTXAPUrZfz5DTHEycGJFd/',\n",
        "    'group.id': 'telecoms_mobile_money',\n",
        "    'auto.offset.reset': 'earliest'  \n",
        "}\n",
        "\n",
        "consumer = Consumer(conf)\n",
        "\n",
        "\n",
        "topic = 'topic_0'\n",
        "consumer.subscribe([topic])\n",
        "\n",
        "try:\n",
        "    while True:\n",
        "        \n",
        "        msg = consumer.poll(1.0)  \n",
        "        \n",
        "        if msg is None:\n",
        "            continue\n",
        "        elif msg.error():\n",
        "            raise KafkaException(msg.error())\n",
        "        \n",
        "       \n",
        "        value = msg.value().decode('utf-8')\n",
        "        data = json.loads(value)\n",
        "        print('Received output:', data)\n",
        "        \n",
        "except KeyboardInterrupt:\n",
        "    pass\n",
        "\n",
        "finally:\n",
        "    \n",
        "    consumer.close()\n"
      ],
      "metadata": {
        "id": "I27TdvEZ44aG",
        "colab": {
          "base_uri": "https://localhost:8080/"
        },
        "outputId": "ce10626e-858f-4dc1-9f2d-efa6fc13ddef"
      },
      "execution_count": 5,
      "outputs": [
        {
          "output_type": "stream",
          "name": "stdout",
          "text": [
            "Received output: {'ordertime': 1497014222380, 'orderid': 18, 'itemid': 'Item_184', 'address': {'city': 'Mountain View', 'state': 'CA', 'zipcode': 94041}}\n",
            "Received output: {'transaction_id': '12345', 'sender_phone_number': '256777123456', 'receiver_phone_number': '256772987654', 'transaction_amount': 100000, 'transaction_time': '2023-04-19 12:00:00'}\n"
          ]
        }
      ]
    }
  ]
}